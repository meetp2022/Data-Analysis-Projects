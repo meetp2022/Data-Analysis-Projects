{
  "nbformat": 4,
  "nbformat_minor": 0,
  "metadata": {
    "colab": {
      "provenance": [],
      "authorship_tag": "ABX9TyPD9WTvD2BDKQzqiJszVtiK",
      "include_colab_link": true
    },
    "kernelspec": {
      "name": "python3",
      "display_name": "Python 3"
    },
    "language_info": {
      "name": "python"
    }
  },
  "cells": [
    {
      "cell_type": "markdown",
      "metadata": {
        "id": "view-in-github",
        "colab_type": "text"
      },
      "source": [
        "<a href=\"https://colab.research.google.com/github/meetp2022/Data-Analysis-Projects/blob/main/Food_Waste.ipynb\" target=\"_parent\"><img src=\"https://colab.research.google.com/assets/colab-badge.svg\" alt=\"Open In Colab\"/></a>"
      ]
    },
    {
      "cell_type": "code",
      "execution_count": null,
      "metadata": {
        "colab": {
          "base_uri": "https://localhost:8080/"
        },
        "id": "Uo3xWFaxb1FF",
        "outputId": "e6396f94-03c7-4df3-905a-8ad722a46c09"
      },
      "outputs": [
        {
          "output_type": "stream",
          "name": "stdout",
          "text": [
            "                           DATAFLOW        LAST UPDATE    freq  \\\n",
            "0  ESTAT:ENV_WASFW$DEFAULTVIEW(1.0)  27/09/24 11:00:00  Annual   \n",
            "1  ESTAT:ENV_WASFW$DEFAULTVIEW(1.0)  27/09/24 11:00:00  Annual   \n",
            "2  ESTAT:ENV_WASFW$DEFAULTVIEW(1.0)  27/09/24 11:00:00  Annual   \n",
            "3  ESTAT:ENV_WASFW$DEFAULTVIEW(1.0)  27/09/24 11:00:00  Annual   \n",
            "4  ESTAT:ENV_WASFW$DEFAULTVIEW(1.0)  27/09/24 11:00:00  Annual   \n",
            "\n",
            "          wst_oper                                          waste  \\\n",
            "0  Waste collected  Food waste - bio, household and similar waste   \n",
            "1  Waste collected  Food waste - bio, household and similar waste   \n",
            "2  Waste collected  Food waste - bio, household and similar waste   \n",
            "3  Waste collected  Food waste - bio, household and similar waste   \n",
            "4  Waste collected  Food waste - bio, household and similar waste   \n",
            "\n",
            "                                             nace_r2                  unit  \\\n",
            "0  Primary production of food - agriculture, fish...  Kilograms per capita   \n",
            "1  Primary production of food - agriculture, fish...  Kilograms per capita   \n",
            "2  Primary production of food - agriculture, fish...  Kilograms per capita   \n",
            "3  Primary production of food - agriculture, fish...  Kilograms per capita   \n",
            "4  Primary production of food - agriculture, fish...  Kilograms per capita   \n",
            "\n",
            "       geo  TIME_PERIOD  OBS_VALUE OBS_FLAG  CONF_STATUS  \n",
            "0  Austria         2020          2      NaN          NaN  \n",
            "1  Austria         2021          1      NaN          NaN  \n",
            "2  Austria         2022          1      NaN          NaN  \n",
            "3  Belgium         2020          3      NaN          NaN  \n",
            "4  Belgium         2021          3      NaN          NaN  \n",
            "                              DATAFLOW        LAST UPDATE       freq  \\\n",
            "0  ESTAT:NAIDQ_10_GDP$DEFAULTVIEW(1.0)  29/08/25 23:00:00  Quarterly   \n",
            "1  ESTAT:NAIDQ_10_GDP$DEFAULTVIEW(1.0)  29/08/25 23:00:00  Quarterly   \n",
            "2  ESTAT:NAIDQ_10_GDP$DEFAULTVIEW(1.0)  29/08/25 23:00:00  Quarterly   \n",
            "3  ESTAT:NAIDQ_10_GDP$DEFAULTVIEW(1.0)  29/08/25 23:00:00  Quarterly   \n",
            "4  ESTAT:NAIDQ_10_GDP$DEFAULTVIEW(1.0)  29/08/25 23:00:00  Quarterly   \n",
            "\n",
            "                                               s_adj  \\\n",
            "0  Unadjusted data (i.e. neither seasonally adjus...   \n",
            "1  Unadjusted data (i.e. neither seasonally adjus...   \n",
            "2  Unadjusted data (i.e. neither seasonally adjus...   \n",
            "3  Unadjusted data (i.e. neither seasonally adjus...   \n",
            "4  Unadjusted data (i.e. neither seasonally adjus...   \n",
            "\n",
            "                                   unit             na_item      geo  \\\n",
            "0  Chain linked volumes, index 2010=100  Value added, gross  Albania   \n",
            "1  Chain linked volumes, index 2010=100  Value added, gross  Albania   \n",
            "2  Chain linked volumes, index 2010=100  Value added, gross  Albania   \n",
            "3  Chain linked volumes, index 2010=100  Value added, gross  Albania   \n",
            "4  Chain linked volumes, index 2010=100  Value added, gross  Albania   \n",
            "\n",
            "  TIME_PERIOD  OBS_VALUE OBS_FLAG  CONF_STATUS  \n",
            "0     2023-Q1    130.804      NaN          NaN  \n",
            "1     2023-Q2    152.479      NaN          NaN  \n",
            "2     2023-Q3    149.777      NaN          NaN  \n",
            "3     2023-Q4    152.093      NaN          NaN  \n",
            "4     2024-Q1    135.184        p          NaN  \n"
          ]
        }
      ],
      "source": [
        "import pandas as pd\n",
        "\n",
        "# Load datasets\n",
        "food_waste = pd.read_csv(\"/content/sample_data/Research_Project/env_wasfw$defaultview_linear.csv\")   # replace with your actual file path\n",
        "gdp = pd.read_csv(\"/content/sample_data/Research_Project/naidq_10_gdp$defaultview_linear.csv\")\n",
        "food_prices = pd.read_csv(\"/content/sample_data/Research_Project/ei_cphi_m$defaultview_linear.csv\")\n",
        "population = pd.read_csv(\"/content/sample_data/Research_Project/tps00001_page_linear.csv\")\n",
        "\n",
        "# Peek at data\n",
        "print(food_waste.head())\n",
        "print(gdp.head())\n"
      ]
    },
    {
      "cell_type": "code",
      "source": [
        "# Standardize year column name\n",
        "for df in [food_waste, gdp, food_prices, population]:\n",
        "    df.rename(columns={\"TIME_PERIOD\": \"year\", \"geo\": \"country\"}, inplace=True)\n",
        "\n",
        "# Ensure year is integer\n",
        "# Some dataframes have year as 'YYYY-QQ' or 'YYYY-MM', so extract the year part\n",
        "for df in [food_waste, gdp, food_prices, population]:\n",
        "    df[\"year\"] = df[\"year\"].astype(str).str.extract(r'(\\d{4})').astype(int)"
      ],
      "metadata": {
        "id": "sABYEEahmUqr"
      },
      "execution_count": null,
      "outputs": []
    },
    {
      "cell_type": "code",
      "source": [
        "food_waste_clean = food_waste[['country', 'year', 'OBS_VALUE', 'waste', 'nace_r2', 'unit']].copy()"
      ],
      "metadata": {
        "id": "FlIGzA_Bom8U"
      },
      "execution_count": null,
      "outputs": []
    },
    {
      "cell_type": "code",
      "source": [
        "# Rename columns for clarity\n",
        "food_waste_clean = food_waste_clean.rename(columns={\n",
        "    'geo': 'Country',\n",
        "    'TIME_PERIOD': 'Year',\n",
        "    'OBS_VALUE': 'FoodWaste_kg_per_capita',\n",
        "    'waste': 'WasteType',\n",
        "    'nace_r2': 'Sector',\n",
        "    'unit': 'Unit'\n",
        "})"
      ],
      "metadata": {
        "id": "frLU0nr6pszZ"
      },
      "execution_count": null,
      "outputs": []
    },
    {
      "cell_type": "code",
      "source": [
        "# Convert Year to integer\n",
        "food_waste_clean ['year'] = food_waste_clean ['year'].astype(int)"
      ],
      "metadata": {
        "id": "aepkSUwNrPJE"
      },
      "execution_count": null,
      "outputs": []
    },
    {
      "cell_type": "code",
      "source": [
        "\n",
        "# Convert FoodWaste to numeric (in case of parsing issues)\n",
        "food_waste_clean['FoodWaste_kg_per_capita'] = pd.to_numeric(food_waste_clean['FoodWaste_kg_per_capita'], errors='coerce')"
      ],
      "metadata": {
        "id": "kamQH_d9roYC"
      },
      "execution_count": null,
      "outputs": []
    },
    {
      "cell_type": "code",
      "source": [
        "# Drop rows with missing values\n",
        "food_waste_clean = food_waste_clean.dropna(subset=['FoodWaste_kg_per_capita'])"
      ],
      "metadata": {
        "id": "1L3DCZ7mrzrm"
      },
      "execution_count": null,
      "outputs": []
    },
    {
      "cell_type": "code",
      "source": [
        "# Preview cleaned dataset\n",
        "print(food_waste_clean.head())\n",
        "print(\"\\nShape after cleaning:\", food_waste_clean.shape)"
      ],
      "metadata": {
        "colab": {
          "base_uri": "https://localhost:8080/"
        },
        "id": "aBx_OkUGr8UR",
        "outputId": "e10fa91a-2694-4988-d5bb-b80304df0a9b"
      },
      "execution_count": null,
      "outputs": [
        {
          "output_type": "stream",
          "name": "stdout",
          "text": [
            "   country  year  FoodWaste_kg_per_capita  \\\n",
            "0  Austria  2020                        2   \n",
            "1  Austria  2021                        1   \n",
            "2  Austria  2022                        1   \n",
            "3  Belgium  2020                        3   \n",
            "4  Belgium  2021                        3   \n",
            "\n",
            "                                       WasteType  \\\n",
            "0  Food waste - bio, household and similar waste   \n",
            "1  Food waste - bio, household and similar waste   \n",
            "2  Food waste - bio, household and similar waste   \n",
            "3  Food waste - bio, household and similar waste   \n",
            "4  Food waste - bio, household and similar waste   \n",
            "\n",
            "                                              Sector                  Unit  \n",
            "0  Primary production of food - agriculture, fish...  Kilograms per capita  \n",
            "1  Primary production of food - agriculture, fish...  Kilograms per capita  \n",
            "2  Primary production of food - agriculture, fish...  Kilograms per capita  \n",
            "3  Primary production of food - agriculture, fish...  Kilograms per capita  \n",
            "4  Primary production of food - agriculture, fish...  Kilograms per capita  \n",
            "\n",
            "Shape after cleaning: (1056, 6)\n"
          ]
        }
      ]
    }
  ]
}